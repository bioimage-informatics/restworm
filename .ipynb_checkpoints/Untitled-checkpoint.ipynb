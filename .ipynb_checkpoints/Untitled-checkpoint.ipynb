{
 "cells": [
  {
   "cell_type": "code",
   "execution_count": null,
   "id": "4b2ab00a",
   "metadata": {},
   "outputs": [],
   "source": [
    "from keras.utils import multi_gpu_model\n",
    "import os\n",
    "import cv2\n",
    "import tifffile as tiff\n",
    "import numpy as np\n",
    "import keras.callbacks\n",
    "from network import RESTWORM_NET\n",
    "import glob"
   ]
  }
 ],
 "metadata": {
  "kernelspec": {
   "display_name": "dl_tools",
   "language": "python",
   "name": "dl_tools"
  },
  "language_info": {
   "codemirror_mode": {
    "name": "ipython",
    "version": 3
   },
   "file_extension": ".py",
   "mimetype": "text/x-python",
   "name": "python",
   "nbconvert_exporter": "python",
   "pygments_lexer": "ipython3",
   "version": "3.8.13"
  }
 },
 "nbformat": 4,
 "nbformat_minor": 5
}
