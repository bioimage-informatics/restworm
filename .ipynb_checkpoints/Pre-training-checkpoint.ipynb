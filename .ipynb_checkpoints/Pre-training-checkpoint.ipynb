{
 "cells": [
  {
   "cell_type": "code",
   "execution_count": null,
   "id": "928f360a",
   "metadata": {},
   "outputs": [],
   "source": [
    "# -*- coding: utf-8 -*-\n",
    "from keras.utils import multi_gpu_model\n",
    "import os, cv2\n",
    "import tifffile as tiff\n",
    "import numpy as np\n",
    "import keras.callbacks\n",
    "from network import RESTWORM_NET\n",
    "import glob"
   ]
  },
  {
   "cell_type": "code",
   "execution_count": null,
   "id": "72aa058d",
   "metadata": {},
   "outputs": [],
   "source": [
    "# Parameters\n",
    "# model architecture\n",
    "input_image_size = 512\n",
    "input_channel_count = 1\n",
    "output_channel_count = 1\n",
    "first_layer_filter_count = 64\n",
    "\n",
    "# Early stopping\n",
    "es='No'\n",
    "# data augmentation\n",
    "aug='No'\n",
    "# Loss function\n",
    "loss = 'mse'\n",
    "# Computation size parameters\n",
    "BATCH_SIZE = 4\n",
    "NUM_EPOCH = 5\n",
    "num_layers = 5\n",
    "maxPool = True\n",
    "act = 'None'\n",
    "ROW_SIZE = 512\n",
    "COLUME_SIZE = 512"
   ]
  },
  {
   "cell_type": "code",
   "execution_count": null,
   "id": "cbc59661",
   "metadata": {},
   "outputs": [],
   "source": [
    "# Folders\n",
    "train_input_folder = \"E:\\Azuma\\Restoration\\Data\\Training\\Input\"\n",
    "train_gt_folder = \"E:\\Azuma\\Restoration\\Data\\Training\\Ground_truth\"\n",
    "test_input_folder = \"E:\\Azuma\\Restoration\\Data\\Test\\Input\"\n",
    "test_pred_folder = \"E:\\Azuma\\Restoration\\Data\\Test\\Prediction\""
   ]
  },
  {
   "cell_type": "code",
   "execution_count": null,
   "id": "e91bf59b",
   "metadata": {},
   "outputs": [],
   "source": [
    "# Training\n",
    "# load network\n",
    "network = RESTWORM_NET(input_image_size, input_channel_count, output_channel_count, first_layer_filter_count, num_layers, act, maxPool)\n",
    "input_image_size\n",
    "# model\n",
    "model = network.get_model()\n",
    "# when using multi gpu\n",
    "parallel_model = multi_gpu_model(model, gpus=2)\n",
    "# compile\n",
    "parallel_model.compile(optimizer='adam', loss=loss)\n",
    "\n",
    "# Read training data\n",
    "paths = glob.glob(train_input_folder + \"\\*.tif\")\n",
    "x_train = np.zeros((len(paths), COLUME_SIZE, ROW_SIZE, 1), np.float32)\n",
    "for i, image_file in enumerate(paths):\n",
    "    # x_train\n",
    "    img = cv2.imread(image_file, -1)\n",
    "    x_train[i,:,:,0] = img\n",
    "\n",
    "paths = glob.glob(train_gt_folder + \"\\*.tif\")\n",
    "y_train = np.zeros((len(paths), COLUME_SIZE, ROW_SIZE, 1), np.float32)\n",
    "for i, image_file in enumerate(paths):\n",
    "    # y_train\n",
    "    img = cv2.imread(image_file, -1)\n",
    "    y_train[i,:,:,0] = img\n",
    "\n",
    "# Training\n",
    "if es=='Yes':\n",
    "    es_cb = [keras.callbacks.EarlyStopping(monitor='val_loss', patience=0)]\n",
    "    test_ratio = 0.1\n",
    "elif es=='No':\n",
    "    es_cb = None\n",
    "    test_ratio = None\n",
    "\n",
    "parallel_model.fit(x_train, y_train, batch_size=BATCH_SIZE, epochs=NUM_EPOCH, verbose=1, callbacks=es_cb, validation_split=test_ratio )"
   ]
  },
  {
   "cell_type": "code",
   "execution_count": null,
   "id": "5ff36683",
   "metadata": {},
   "outputs": [],
   "source": [
    "# Test\n",
    "# Read test data\n",
    "os.makedirs(test_pred_folder, exist_ok=True)\n",
    "paths = glob.glob(test_input_folder + \"\\*.tif\")\n",
    "x_test = np.zeros((len(paths), COLUME_SIZE, ROW_SIZE, 1), np.float32)\n",
    "for i, image_file in enumerate(paths):\n",
    "    img = cv2.imread(image_file, -1)\n",
    "    x_test[i,:,:,0] = img\n",
    "        \n",
    "# prediction\n",
    "y_pred = parallel_model.predict(x_test, BATCH_SIZE)\n",
    "\n",
    "# Save\n",
    "for i, y in enumerate(y_pred):\n",
    "    filename = os.path.split(paths[i])[1]\n",
    "    this_name = test_pred_folder + os.sep + filename\n",
    "    tiff.imsave(this_name, y)"
   ]
  }
 ],
 "metadata": {
  "kernelspec": {
   "display_name": "Python 3 (ipykernel)",
   "language": "python",
   "name": "python3"
  },
  "language_info": {
   "codemirror_mode": {
    "name": "ipython",
    "version": 3
   },
   "file_extension": ".py",
   "mimetype": "text/x-python",
   "name": "python",
   "nbconvert_exporter": "python",
   "pygments_lexer": "ipython3",
   "version": "3.7.11"
  }
 },
 "nbformat": 4,
 "nbformat_minor": 5
}
